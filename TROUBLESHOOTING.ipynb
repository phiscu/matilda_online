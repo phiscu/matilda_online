{
 "cells": [
  {
   "cell_type": "markdown",
   "id": "9666245d-d1d4-47cb-8f67-df62b4e9a127",
   "metadata": {},
   "source": [
    "- check memory and close other notebooks\n",
    "\n",
    "- download output data an restart binder\n",
    "\n",
    "- try ovh cluster if launch fails"
   ]
  },
  {
   "cell_type": "markdown",
   "id": "9a0191fe",
   "metadata": {},
   "source": [
    "If you have downloaded your progess into `output_download.zip` file, execute the cell below to unzip its contents into `output` folder to continue where you left off."
   ]
  },
  {
   "cell_type": "code",
   "execution_count": null,
   "id": "3fb205d8",
   "metadata": {},
   "outputs": [],
   "source": [
    "import zipfile\n",
    "\n",
    "# Specify the path to the zip file and the directory to extract to\n",
    "zip_file_path = 'output_download.zip'\n",
    "extract_to_path = 'output'\n",
    "\n",
    "# Open the zip file\n",
    "with zipfile.ZipFile(zip_file_path, 'r') as zip_ref:\n",
    "    # Extract all the contents into the specified directory\n",
    "    zip_ref.extractall(extract_to_path)\n",
    "\n",
    "print(f\"Extracted all files to {extract_to_path}\")"
   ]
  }
 ],
 "metadata": {
  "kernelspec": {
   "display_name": "Python 3 (ipykernel)",
   "language": "python",
   "name": "python3"
  },
  "language_info": {
   "codemirror_mode": {
    "name": "ipython",
    "version": 3
   },
   "file_extension": ".py",
   "mimetype": "text/x-python",
   "name": "python",
   "nbconvert_exporter": "python",
   "pygments_lexer": "ipython3",
   "version": "3.10.9"
  }
 },
 "nbformat": 4,
 "nbformat_minor": 5
}
